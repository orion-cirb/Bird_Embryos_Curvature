{
 "cells": [
  {
   "cell_type": "code",
   "execution_count": 1,
   "id": "910e4e9e-1a9b-4ca0-917c-f2ba155efb4d",
   "metadata": {},
   "outputs": [],
   "source": [
    "import os\n",
    "import napari\n",
    "import numpy as np\n",
    "import scipy as sp\n",
    "import skimage as sk"
   ]
  },
  {
   "cell_type": "code",
   "execution_count": 2,
   "id": "6607da72-160c-4e12-bb5b-3ac924e6f797",
   "metadata": {},
   "outputs": [
    {
     "data": {
      "text/plain": [
       "(562, 2, 1280, 1080)"
      ]
     },
     "execution_count": 2,
     "metadata": {},
     "output_type": "execute_result"
    }
   ],
   "source": [
    "# Load image\n",
    "img_url = '/home/heloise/Images/Manceau/Romain/beta catenin/241119_QHH33 back sans tete_16-55-31/Downscaled/img.tif'\n",
    "img = sk.io.imread(img_url)\n",
    "img.shape"
   ]
  },
  {
   "cell_type": "code",
   "execution_count": 3,
   "id": "4c268d23-deda-4042-8211-b1393cee1d34",
   "metadata": {},
   "outputs": [],
   "source": [
    "# Start napari viewer\n",
    "viewer = napari.Viewer()\n",
    "viewer.add_image(img);\n",
    "viewer.dims.order = (1, 0, 2, 3)\n",
    "napari.run()"
   ]
  },
  {
   "cell_type": "code",
   "execution_count": 4,
   "id": "ec559062-db54-4891-9204-ac3ed6a1a65e",
   "metadata": {},
   "outputs": [
    {
     "name": "stdout",
     "output_type": "stream",
     "text": [
      "th =  60\n"
     ]
    }
   ],
   "source": [
    "# Segment channel 1\n",
    "ch1 = img[:,0,:,:]\n",
    "ch1_med = ch1 #sk.filters.median(ch1, sk.morphology.ball(2))\n",
    "th = sk.filters.threshold_otsu(ch1_med)\n",
    "ch1_bin = ch1_med > th\n",
    "\n",
    "viewer.add_image(ch1);\n",
    "viewer.add_labels(ch1_bin)\n",
    "print(\"th = \", th)"
   ]
  },
  {
   "cell_type": "code",
   "execution_count": 19,
   "id": "50a34dae-852b-45fe-aa26-85276d90a569",
   "metadata": {},
   "outputs": [],
   "source": [
    "#ch1_bin_med = sk.filters.median(ch1_bin, sk.morphology.ball(2))\n",
    "#viewer.add_labels(ch1_bin_med)"
   ]
  },
  {
   "cell_type": "code",
   "execution_count": 6,
   "id": "7201fc5d-8c0c-4bb6-a1a5-160f0e5b3df9",
   "metadata": {},
   "outputs": [
    {
     "data": {
      "text/plain": [
       "<Labels layer 'fill [1]' at 0x7de8f7aac5e0>"
      ]
     },
     "execution_count": 6,
     "metadata": {},
     "output_type": "execute_result"
    }
   ],
   "source": [
    "struct = sp.ndimage.generate_binary_structure(3, 1)\n",
    "struct[0,:,:] = False\n",
    "struct[2,:,:] = False\n",
    "fill = sp.ndimage.binary_fill_holes(ch1_bin, struct)\n",
    "viewer.add_labels(fill)"
   ]
  },
  {
   "cell_type": "code",
   "execution_count": null,
   "id": "ffa11b9e-c06e-4be4-9370-20bf4e0c8eee",
   "metadata": {},
   "outputs": [],
   "source": []
  }
 ],
 "metadata": {
  "kernelspec": {
   "display_name": "Python 3 (ipykernel)",
   "language": "python",
   "name": "python3"
  },
  "language_info": {
   "codemirror_mode": {
    "name": "ipython",
    "version": 3
   },
   "file_extension": ".py",
   "mimetype": "text/x-python",
   "name": "python",
   "nbconvert_exporter": "python",
   "pygments_lexer": "ipython3",
   "version": "3.9.16"
  }
 },
 "nbformat": 4,
 "nbformat_minor": 5
}
